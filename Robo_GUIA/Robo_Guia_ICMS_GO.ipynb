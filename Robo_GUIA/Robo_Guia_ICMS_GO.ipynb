{
 "cells": [
  {
   "cell_type": "code",
   "execution_count": 24,
   "metadata": {},
   "outputs": [],
   "source": [
    "from selenium import webdriver # Importar classe para inicializar o browser\n",
    "from selenium.webdriver.common.action_chains import ActionChains # Importar a classe ActionChains responsável pelas manipulações\n",
    "from selenium.webdriver.common.keys import Keys #Importar a classe Keys que podem ser utilizadas no key_up e key_down\n",
    "from selenium.webdriver.support.ui import WebDriverWait # Importar a classe WebDriverWait\n",
    "from selenium.webdriver.support import expected_conditions as EC # Importar a classe que contém as funções e aplicar um alias\n",
    "from selenium.webdriver.common.by import By # Importar classe para ajudar a localizar os elementos\n",
    "from datetime import datetime\n",
    "import time\n",
    "import os\n",
    "import pyautogui\n",
    "import pandas as pd\n",
    "import ctypes #Criar tela de mensagem\n",
    "import configparser\n",
    "#pd.options.display.float_format = '{:,.2f}'.format\n",
    "import warnings\n",
    "warnings.filterwarnings(\"ignore\", category=DeprecationWarning) \n"
   ]
  },
  {
   "cell_type": "code",
   "execution_count": 2,
   "metadata": {},
   "outputs": [],
   "source": [
    "#switch_to_window --mudar a janela\n",
    "#current_window_handle -- pega o handle da janela\n",
    "#current_url -- verifica a url ativa do handle\n",
    "#window_handles -- lista os handles abertos\n",
    "#switch_to_window' -- muda a janela para o nandle\n",
    "#driver.maximize_window()"
   ]
  },
  {
   "cell_type": "code",
   "execution_count": 3,
   "metadata": {},
   "outputs": [],
   "source": [
    "def AbreSitePrincipal():\n",
    "    #inicia\n",
    "    driver = webdriver.Chrome()\n",
    "    driver.get('https://app.sefaz.go.gov.br/arr-www/view/entradaContribuinte.jsf')\n",
    "    wait = WebDriverWait(driver, 1000)\n",
    "    \n",
    "    return driver"
   ]
  },
  {
   "cell_type": "code",
   "execution_count": 4,
   "metadata": {},
   "outputs": [],
   "source": [
    "def Inicial_Guia_icms_normal(driver):\n",
    "    #Clicar no Botao icms - Normal\n",
    "    driver.find_element_by_xpath('//*[@id=\"frmEntradaContribuinte:entradaContribuinte2:8:botaoEmissaoDARE\"]').click()\n",
    "    time.sleep(1)"
   ]
  },
  {
   "cell_type": "code",
   "execution_count": 5,
   "metadata": {},
   "outputs": [],
   "source": [
    "def Abre_inscricao_estadual(driver):\n",
    "\n",
    "    # Mudar o handle\n",
    "    driver.switch_to_window(driver.window_handles[-1]) #ativa a ultima aba aberta, para poder manipular seus elementos\n",
    "    \n",
    "    #Espera até que o elemento aparecça ate 10 segundos\n",
    "    wait = WebDriverWait(driver, 1000)\n",
    "    elemento = wait.until(EC.visibility_of_element_located((By.ID, 'frmEmissao:btnContinueBaixo')))\n",
    "     #Seleciona contribuintes que tem Inscriçao estadual\n",
    "    driver.find_element_by_xpath('//*[@id=\"frmEmissao:apContribuinte\"]/h3[1]').click()\n",
    "    time.sleep(2)\n"
   ]
  },
  {
   "cell_type": "code",
   "execution_count": 6,
   "metadata": {},
   "outputs": [],
   "source": [
    "def Preenche_inscricao_estadual(driver, sInscricaoEstadual):\n",
    "    \n",
    "    wait = WebDriverWait(driver, 1000) #Espera o site carregar em até 1000 segundos\n",
    "    txtInscricao = driver.find_element_by_xpath('//*[@id=\"frmEmissao:apContribuinte:txtInscricao\"]')\n",
    "    \n",
    "    txtInscricao.send_keys(Keys.HOME) #Posiciona no inicio\n",
    "    txtInscricao.send_keys(sInscricaoEstadual)\n",
    "    \n",
    "    time.sleep(2) #espera 2 segundos antes de apertar o botão para continuar\n",
    "    driver.find_element_by_id('frmEmissao:btnContinueBaixo').click()\n",
    "    time.sleep(1) #espera 2 segundos antes de apertar o botão para continuar\n",
    "        "
   ]
  },
  {
   "cell_type": "code",
   "execution_count": 7,
   "metadata": {},
   "outputs": [],
   "source": [
    "def Abre_Form_Dare(driver):\n",
    "    #Espera até que o elemento apareca no maximo até 100 segundos\n",
    "    wait = WebDriverWait(driver, 1000)\n",
    "    elemento = wait.until(EC.visibility_of_element_located((By.ID, 'frmEmissao:apReceitaEstadual:treeReceita_node_0')))\n",
    "    \n",
    "    #forçar aparecer os elementos ICMS NORMAL -> 1-ICMS - IMPOSTO (...) -> 108 - Normal ->300 - Mensal\n",
    "    for i in range(1,4):\n",
    "        driver.execute_script(f'document.getElementsByTagName(\"ul\")[{i}].style.display = \"block\"')\n",
    "    time.sleep(0.5)\n",
    "    \n",
    "    #Escolhe 300 - Mensal\n",
    "    driver.find_element_by_xpath('//*[@id=\"frmEmissao:apReceitaEstadual:treeReceita_node_0_0_0_5\"]/div/span').click()\n",
    "    time.sleep(1)\n",
    "    \n",
    "    #clicar em continuar\n",
    "    driver.find_element_by_id(\"frmEmissao:btnContinueBaixo\").click()\n",
    "    time.sleep(1)"
   ]
  },
  {
   "cell_type": "code",
   "execution_count": 8,
   "metadata": {},
   "outputs": [],
   "source": [
    "def Preenche_Dare(driver, nAno, nMes, dtVenc, dtPgto,nValor, sComplemento):\n",
    "    \n",
    "    '''driver  => navegador criado pelo selenium\n",
    "       nAno    => Ano como numero AAAA , será convertida nesta funcao\n",
    "       nMes    => Mes como numero M, será convertido para texto nesta funcao\n",
    "       dDtVenc => Data de vencimento. Será convertido para o formato correto AAAA/MM/DD nesta função\n",
    "       dDtPgto => Data de pagameno. Será convertido para o formato correto AAAA/MM/DD nesta função\n",
    "       nValor  => Valor do imposto. Será convertido para texto, nesta função\n",
    "       sComplemento =>Complemento tem que ser texto, nenhum tratamento será dado\n",
    "    '''\n",
    "    sAno, sMes = str(nAno), str(nMes+1) # O mês será somado 1, pois na combo começa com 2\n",
    "    sDtVenc, sDtPgto = dtVenc.strftime('%d/%m/%Y'), dtPgto.strftime('%d/%m/%Y')\n",
    "    \n",
    "    sValor = str(nValor).replace('.',',')\n",
    "    \n",
    "    wait = WebDriverWait(driver, 100)\n",
    "    elemento = wait.until(EC.visibility_of_element_located((By.ID, 'frmEmissao:acInfoDocumento:cbMes')))   \n",
    "    #Clica no seletor do mes\n",
    "    driver.find_element_by_xpath('//*[@id=\"frmEmissao:acInfoDocumento:cbMes\"]/input').click()\n",
    "    time.sleep(0.5)\n",
    "    #Escolhe o mês começa com o 2, por exemplo, janeiro e 2, /ul/li[2]\n",
    "    driver.find_element_by_xpath('//*[@id=\"frmEmissao:acInfoDocumento:cbMes_panel\"]/ul/li[' + sMes + ']').click()\n",
    "    \n",
    "    #Ano\n",
    "    driver.find_element_by_xpath('//*[@id=\"frmEmissao:acInfoDocumento:txtAno\"]/input').click()\n",
    "    time.sleep(1)\n",
    "    \n",
    "    #pega a lista de anos\n",
    "    lista_anos = driver.find_elements_by_xpath('//*[@id=\"frmEmissao:acInfoDocumento:txtAno_panel\"]/ul/li')\n",
    "    #Descobre o ano e clica nele, mas é importante que a lista esteja aparecendo\n",
    "    for ano in lista_anos:\n",
    "        if ano.text == sAno:\n",
    "            ano.click()\n",
    "    \n",
    "    #Remove a trava do campo passando comando javascript\n",
    "    driver.execute_script('document.getElementsByName(\"frmEmissao:acInfoDocumento:cdDataVencimento_input\")[0].removeAttribute(\"readonly\")')\n",
    "    driver.execute_script('document.getElementsByName(\"frmEmissao:acInfoDocumento:cdDataPagamento_input\")[0].removeAttribute(\"readonly\")')\n",
    "\n",
    "    driver.find_element_by_xpath('//*[@id=\"frmEmissao:acInfoDocumento:cdDataVencimento_input\"]').send_keys(sDtVenc)\n",
    "    time.sleep(1)\n",
    "    driver.find_element_by_xpath('//*[@id=\"frmEmissao:acInfoDocumento:cdDataPagamento_input\"]').send_keys(sDtPgto)\n",
    "    time.sleep(1)\n",
    "    driver.find_element_by_xpath('//*[@id=\"frmEmissao:acInfoDocumento:txtValorOriginal\"]').send_keys(sValor)\n",
    "\n",
    "    complemento = driver.find_element_by_xpath('//*[@id=\"frmEmissao:acInfoDocumento:txtInformacoesComplementares\"]')\n",
    "    #apaga complemento\n",
    "    complemento.send_keys(Keys.CONTROL + Keys.SHIFT + Keys.HOME)#selecionar\n",
    "    complemento.send_keys(Keys.BACKSPACE) #limpar\n",
    "    #preenche complemento\n",
    "    complemento.send_keys(sComplemento)\n",
    "\n",
    "    #Gerar dare\n",
    "    driver.find_element_by_xpath('//*[@id=\"frmEmissao:btnGerarBaixo\"]').click()\n",
    "    \n"
   ]
  },
  {
   "cell_type": "code",
   "execution_count": null,
   "metadata": {},
   "outputs": [],
   "source": []
  },
  {
   "cell_type": "code",
   "execution_count": 26,
   "metadata": {},
   "outputs": [],
   "source": [
    "def Imprime(driver):\n",
    "    \n",
    "    time.sleep(3)#Esperar 5 segundos para dar tempo de carregar a visualizaçao do pdf, não estou conseguindo esperar os elementos serem carregados\n",
    "    #IMPRESSAO\n",
    "    driver.switch_to_window(driver.window_handles[-1])#ativar a tela da impressão\n",
    "    driver.maximize_window()\n",
    "    time.sleep(1)\n",
    "    \n",
    "    #Espera até que o elemento aparecça ate 10 segundos, ISTO NÃO FUNCIONOU\n",
    "    #wait = WebDriverWait(driver, 20)\n",
    "    #elemento = wait.until(EC.visibility_of_element_located((By.ID, 'toolbar')))\n",
    "    \n",
    "    #Ativar o menu pela imagem\n",
    "    #posicao_aparecer_btn_imprimir = pyautogui.locateCenterOnScreen('imagens\\\\ForcarAparecerIconeImpressao.png',confidence=0.90)\n",
    "    #pyautogui.moveTo(posicao_aparecer_btn_imprimir,duration=1)\n",
    "    #posicao_imprimir_escondido    = pyautogui.locateCenterOnScreen('imagens\\\\btn_Imprimir_escondido.png',confidence=0.90)\n",
    "    #pyautogui.click(posicao_imprimir_escondido,duration=1)\n",
    "    \n",
    "    #Ativa o menu de imprimr pleo menu\n",
    "    tela_impressao = driver.find_element_by_xpath('/html/body')\n",
    "    actions = ActionChains(driver)\n",
    "    actions.context_click(tela_impressao)\n",
    "    actions.send_keys(Keys.DOWN)\n",
    "    actions.perform()\n",
    "    \n",
    "    #Ativa a impressão pelo menu\n",
    "    posicao_menu_imprimir = pyautogui.locateCenterOnScreen('imagens\\\\menu_ImprimirControl-P.png',confidence=0.90)\n",
    "    pyautogui.click(posicao_menu_imprimir,duration = 0.5)\n",
    "  \n",
    "    \n",
    "    #Executa a impressão pelo botão\n",
    "    time.sleep(3)\n",
    "    posicao_btn_imprimir = pyautogui.locateCenterOnScreen('imagens\\\\btn_Imprimir.png',confidence=0.90)\n",
    "    pyautogui.click(posicao_btn_imprimir,duration = 0.5)\n",
    "    "
   ]
  },
  {
   "cell_type": "code",
   "execution_count": 10,
   "metadata": {},
   "outputs": [],
   "source": [
    "def cria_arquivo_pdf(driver, caminho_arq):\n",
    "    #Se a impresao for  em PDF\n",
    "    time.sleep(2)\n",
    "    #nome_arq_full = 'dare' + '_' + datetime.now().strftime('%Y-%m-%d %H-%M-%S')\n",
    "    #caminho_arq = os.path.join(os.getcwd(),'guias','GO',nome_arq_full + '.pdf')\n",
    "    \n",
    "    #Nomeia o arquivo\n",
    "    posicao_nome_arquivo = pyautogui.locateCenterOnScreen('imagens\\\\txt_nome_arquivo.png',confidence=0.90 )\n",
    "    \n",
    "    pyautogui.click(posicao_nome_arquivo,duration = 0.5)\n",
    "    pyautogui.typewrite(caminho_arq, interval = 0.001)\n",
    "    \n",
    "    time.sleep(1)\n",
    "    posicao_btn_salvar = pyautogui.locateCenterOnScreen('imagens\\\\btn_salvar.png',confidence=0.90 )\n",
    "    pyautogui.click(posicao_btn_salvar,duration = 0.5) #salvar\n",
    "    time.sleep(5) #5 segundos para dar tempo salvar\n",
    "    "
   ]
  },
  {
   "cell_type": "code",
   "execution_count": 11,
   "metadata": {},
   "outputs": [],
   "source": [
    "def Reinicia(driver):\n",
    "    \n",
    "    driver.close() #Fecha a janela de impressao\n",
    "    driver.switch_to_window(driver.window_handles[1])#ativa a Janela de preenchimento de inscriçao\n",
    "    driver.close() #Fecha a Janela de preenchimento de inscriçao estadual\n",
    "    driver.switch_to_window(driver.window_handles[0]) #Volta para a tela inicial\n",
    "    return driver"
   ]
  },
  {
   "cell_type": "code",
   "execution_count": 12,
   "metadata": {},
   "outputs": [],
   "source": [
    "def df_dados():\n",
    "    \n",
    "    config = configparser.ConfigParser()\n",
    "    config.read('config.ini')\n",
    "    caminho_controle = config['path']['controlador_impostos']\n",
    "    dtc = {'UF' : str, 'LOJA' : str, 'IE' : int, 'ANO BASE': int, 'MES BASE': int, 'VLR ICMS' : float, 'DT VENC' : str,'DT PAG' : str }\n",
    "    dados = pd.read_excel(caminho_controle,sheet_name='GO',dtypes=dtc)\n",
    "    \n",
    "    dados['DT VENC'] = pd.to_datetime(dados['DT VENC'], format='%d/%m/%Y')\n",
    "    dados['DT PAG'] = pd.to_datetime(dados['DT PAG'], format='%d/%m/%Y')\n",
    "    \n",
    "    return dados"
   ]
  },
  {
   "cell_type": "code",
   "execution_count": 13,
   "metadata": {},
   "outputs": [],
   "source": [
    "def Start():\n",
    "    \n",
    "    dados = df_dados()\n",
    "    try:\n",
    "        driver = AbreSitePrincipal()\n",
    "        driver.maximize_window()\n",
    "        for i in dados.index:\n",
    "        #for i in range(3):\n",
    "            sInscricaoEstadual = str(dados['IE'][i])\n",
    "            nAno, nMes         = dados['ANO BASE'][i], dados['MES BASE'][i]\n",
    "            dDtVenc, dDtPgto   = dados['DT VENC'][i] , dados['DT PAG'][i]\n",
    "            nValor             = dados['VLR'][i]\n",
    "            sComplemento       = dados['LOJA'][i]\n",
    "            sCaminhoArquivo    = os.path.join(dados['DIRETORIO'][i], dados['ARQUIVO'][i] + '.pdf')\n",
    "            \n",
    "            if not (os.path.isfile(sCaminhoArquivo)): #Verifica se o arquivo existe\n",
    "                Inicial_Guia_icms_normal(driver)\n",
    "                Abre_inscricao_estadual(driver)\n",
    "                Preenche_inscricao_estadual(driver,sInscricaoEstadual)\n",
    "                Abre_Form_Dare(driver)\n",
    "                Preenche_Dare(driver,nAno, nMes, dDtVenc, dDtPgto,nValor, sComplemento)\n",
    "                Imprime(driver)\n",
    "                cria_arquivo_pdf(driver,sCaminhoArquivo)\n",
    "                driver = Reinicia(driver)\n",
    "            #else:\n",
    "            #    criar_log()\n",
    "    except:\n",
    "          pass\n",
    "    finally:\n",
    "        #finaliza\n",
    "        time.sleep(5) #eperar 5 segundos por algum processo final\n",
    "        driver.quit()  \n"
   ]
  },
  {
   "cell_type": "code",
   "execution_count": 25,
   "metadata": {},
   "outputs": [
    {
     "name": "stdout",
     "output_type": "stream",
     "text": [
      "Inicio ... ========================\n",
      "Finalizado ! ======================\n"
     ]
    }
   ],
   "source": [
    "print(\"Inicio ... ========================\")\n",
    "Start()\n",
    "print(\"Finalizado ! ======================\")"
   ]
  },
  {
   "cell_type": "markdown",
   "metadata": {},
   "source": [
    "# Teste"
   ]
  },
  {
   "cell_type": "code",
   "execution_count": 15,
   "metadata": {},
   "outputs": [],
   "source": [
    "#driver = AbreSitePrincipal()"
   ]
  },
  {
   "cell_type": "code",
   "execution_count": 16,
   "metadata": {},
   "outputs": [],
   "source": [
    "#driver.maximize_window()"
   ]
  },
  {
   "cell_type": "code",
   "execution_count": 17,
   "metadata": {},
   "outputs": [],
   "source": [
    "#Inicial_Guia_icms_normal(driver)"
   ]
  },
  {
   "cell_type": "code",
   "execution_count": 18,
   "metadata": {},
   "outputs": [],
   "source": [
    "#Abre_inscricao_estadual(driver)"
   ]
  },
  {
   "cell_type": "code",
   "execution_count": 19,
   "metadata": {},
   "outputs": [],
   "source": [
    "#Preenche_inscricao_estadual(driver,\"107832070\")"
   ]
  },
  {
   "cell_type": "code",
   "execution_count": 20,
   "metadata": {},
   "outputs": [],
   "source": [
    "#Abre_Form_Dare(driver)"
   ]
  },
  {
   "cell_type": "code",
   "execution_count": 21,
   "metadata": {},
   "outputs": [],
   "source": [
    "#dados = df_dados()"
   ]
  },
  {
   "cell_type": "code",
   "execution_count": 22,
   "metadata": {},
   "outputs": [],
   "source": [
    "# i = 0\n",
    "# sInscricaoEstadual = str(dados['IE'][i])\n",
    "# nAno, nMes         = dados['ANO BASE'][i], dados['MES BASE'][i]\n",
    "# dDtVenc, dDtPgto   = dados['DT VENC'][i] , dados['DT PAG'][i]\n",
    "# nValor             = dados['VLR'][i]\n",
    "# sComplemento       = dados['LOJA'][i]\n",
    "# sCaminhoArquivo    = os.path.join(dados['DIRETORIO'][i], dados['ARQUIVO'][i] + '.pdf')"
   ]
  },
  {
   "cell_type": "code",
   "execution_count": 23,
   "metadata": {},
   "outputs": [],
   "source": [
    "#Preenche_Dare(driver,nAno, nMes, dDtVenc, dDtPgto,nValor, sComplemento)"
   ]
  },
  {
   "cell_type": "code",
   "execution_count": null,
   "metadata": {},
   "outputs": [],
   "source": []
  }
 ],
 "metadata": {
  "kernelspec": {
   "display_name": "Python 3",
   "language": "python",
   "name": "python3"
  },
  "language_info": {
   "codemirror_mode": {
    "name": "ipython",
    "version": 3
   },
   "file_extension": ".py",
   "mimetype": "text/x-python",
   "name": "python",
   "nbconvert_exporter": "python",
   "pygments_lexer": "ipython3",
   "version": "3.7.7"
  }
 },
 "nbformat": 4,
 "nbformat_minor": 4
}

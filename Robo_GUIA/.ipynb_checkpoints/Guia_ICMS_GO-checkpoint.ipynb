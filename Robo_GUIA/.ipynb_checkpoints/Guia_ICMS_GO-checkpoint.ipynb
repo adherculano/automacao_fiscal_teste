{
 "cells": [
  {
   "cell_type": "code",
   "execution_count": 1,
   "metadata": {},
   "outputs": [],
   "source": [
    "from selenium import webdriver # Importar classe para inicializar o browser\n",
    "from selenium.webdriver.common.action_chains import ActionChains # Importar a classe ActionChains responsável pelas manipulações\n",
    "from selenium.webdriver.common.keys import Keys #Importar a classe Keys que podem ser utilizadas no key_up e key_down\n",
    "from selenium.webdriver.support.ui import WebDriverWait # Importar a classe WebDriverWait\n",
    "from selenium.webdriver.support import expected_conditions as EC # Importar a classe que contém as funções e aplicar um alias\n",
    "from selenium.webdriver.common.by import By # Importar classe para ajudar a localizar os elementos\n",
    "from datetime import datetime\n",
    "import time\n",
    "import os\n",
    "import pyautogui\n",
    "\n"
   ]
  },
  {
   "cell_type": "code",
   "execution_count": 2,
   "metadata": {},
   "outputs": [],
   "source": [
    "#switch_to_window --mudar a janela\n",
    "#current_window_handle -- pega o handle da janela\n",
    "#current_url -- verifica a url ativa do handle\n",
    "#window_handles -- lista os handles abertos\n",
    "#switch_to_window' -- muda a janela para o nandle\n",
    "#driver.maximize_window()"
   ]
  },
  {
   "cell_type": "code",
   "execution_count": 3,
   "metadata": {},
   "outputs": [],
   "source": [
    "def AbreSitePrincipal():\n",
    "    #inicia\n",
    "    driver = webdriver.Chrome()\n",
    "    driver.get('https://app.sefaz.go.gov.br/arr-www/view/entradaContribuinte.jsf')\n",
    "    wait = WebDriverWait(driver, 1000)\n",
    "    \n",
    "    return driver"
   ]
  },
  {
   "cell_type": "code",
   "execution_count": 4,
   "metadata": {},
   "outputs": [],
   "source": [
    "def Inicial_Guia_icms_normal(driver):\n",
    "    #Clicar no Botao icms - Normal\n",
    "    driver.find_element_by_xpath('//*[@id=\"frmEntradaContribuinte:entradaContribuinte2:8:botaoEmissaoDARE\"]').click()\n",
    "    time.sleep(1)"
   ]
  },
  {
   "cell_type": "code",
   "execution_count": 5,
   "metadata": {},
   "outputs": [],
   "source": [
    "def Abre_inscricao_estadual(driver):\n",
    "\n",
    "    # Mudar o handle\n",
    "    driver.switch_to_window(driver.window_handles[-1]) #ativa a ultima aba aberta, para poder manipular seus elementos\n",
    "    \n",
    "    #Espera até que o elemento aparecça ate 10 segundos\n",
    "    wait = WebDriverWait(driver, 1000)\n",
    "    elemento = wait.until(EC.visibility_of_element_located((By.ID, 'frmEmissao:btnContinueBaixo')))\n",
    "     #Seleciona contribuintes que tem Inscriçao estadual\n",
    "    driver.find_element_by_xpath('//*[@id=\"frmEmissao:apContribuinte\"]/h3[1]').click()\n",
    "    time.sleep(1)\n"
   ]
  },
  {
   "cell_type": "code",
   "execution_count": 6,
   "metadata": {},
   "outputs": [],
   "source": [
    "def Preenche_inscricao_estadual(driver):\n",
    "    \n",
    "    wait = WebDriverWait(driver, 1000) #Espera o site carregar em até 1000 segundos\n",
    "    txtInscricao = driver.find_element_by_xpath('//*[@id=\"frmEmissao:apContribuinte:txtInscricao\"]')\n",
    "    \n",
    "    txtInscricao.send_keys(Keys.HOME) #Posiciona no inicio\n",
    "    txtInscricao.send_keys(\"105820636\")\n",
    "    \n",
    "    time.sleep(2) #espera 2 segundos antes de apertar o botão para continuar\n",
    "    driver.find_element_by_id('frmEmissao:btnContinueBaixo').click()\n",
    "    "
   ]
  },
  {
   "cell_type": "code",
   "execution_count": 7,
   "metadata": {},
   "outputs": [],
   "source": [
    "def Abre_Form_Dare(driver):\n",
    "    #Espera até que o elemento apareca no maximo até 100 segundos\n",
    "    wait = WebDriverWait(driver, 100)\n",
    "    elemento = wait.until(EC.visibility_of_element_located((By.ID, 'frmEmissao:apReceitaEstadual:treeReceita_node_0')))\n",
    "    #Escolhe 300 - Mensal\n",
    "    driver.find_element_by_xpath('//*[@id=\"frmEmissao:apReceitaEstadual:treeReceita_node_0_0_0_5\"]/div/span').click()\n",
    "    time.sleep(0.5)\n",
    "    #clicar em continuar\n",
    "    driver.find_element_by_id(\"frmEmissao:btnContinueBaixo\").click()\n",
    "    time.sleep(0.5)"
   ]
  },
  {
   "cell_type": "code",
   "execution_count": 8,
   "metadata": {},
   "outputs": [],
   "source": [
    "def Preenche_Dare(driver):\n",
    "    \n",
    "    wait = WebDriverWait(driver, 100)\n",
    "    elemento = wait.until(EC.visibility_of_element_located((By.ID, 'frmEmissao:acInfoDocumento:cbMes')))   \n",
    "    #Clica no seletor do mes\n",
    "    driver.find_element_by_xpath('//*[@id=\"frmEmissao:acInfoDocumento:cbMes\"]/input').click()\n",
    "    time.sleep(0.5)\n",
    "    #Escolhe o mês começa com o 2, por exemplo, janeiro e 2, /ul/li[2]\n",
    "    driver.find_element_by_xpath('//*[@id=\"frmEmissao:acInfoDocumento:cbMes_panel\"]/ul/li[8]').click()\n",
    "    \n",
    "    #Ano\n",
    "    driver.find_element_by_xpath('//*[@id=\"frmEmissao:acInfoDocumento:txtAno\"]/input').click()\n",
    "    time.sleep(0.5)\n",
    "    \n",
    "    #pega a lista de anos\n",
    "    lista_anos = driver.find_elements_by_xpath('//*[@id=\"frmEmissao:acInfoDocumento:txtAno_panel\"]/ul/li')\n",
    "    #Descobre o ano e clica nele, mas é importante que a lista esteja aparecendo\n",
    "    for ano in lista_anos:\n",
    "        if ano.text == '2020':\n",
    "            ano.click()\n",
    "    \n",
    "    #Remove a trava do campo passando comando javascript\n",
    "    driver.execute_script('document.getElementsByName(\"frmEmissao:acInfoDocumento:cdDataVencimento_input\")[0].removeAttribute(\"readonly\")')\n",
    "    driver.execute_script('document.getElementsByName(\"frmEmissao:acInfoDocumento:cdDataPagamento_input\")[0].removeAttribute(\"readonly\")')\n",
    "\n",
    "    driver.find_element_by_xpath('//*[@id=\"frmEmissao:acInfoDocumento:cdDataVencimento_input\"]').send_keys('29/07/2020')\n",
    "    time.sleep(0.5)\n",
    "    driver.find_element_by_xpath('//*[@id=\"frmEmissao:acInfoDocumento:cdDataPagamento_input\"]').send_keys('29/07/2020')\n",
    "    time.sleep(0.5)\n",
    "    driver.find_element_by_xpath('//*[@id=\"frmEmissao:acInfoDocumento:txtValorOriginal\"]').send_keys('1,12')\n",
    "\n",
    "    complemento = driver.find_element_by_xpath('//*[@id=\"frmEmissao:acInfoDocumento:txtInformacoesComplementares\"]')\n",
    "    #apaga complemento\n",
    "    complemento.send_keys(Keys.CONTROL + Keys.SHIFT + Keys.HOME)#selecionar\n",
    "    complemento.send_keys(Keys.BACKSPACE) #limpar\n",
    "    #preenche complemento\n",
    "    complemento.send_keys('..')\n",
    "\n",
    "    #Gerar dare\n",
    "    driver.find_element_by_xpath('//*[@id=\"frmEmissao:btnGerarBaixo\"]').click()\n",
    "    \n"
   ]
  },
  {
   "cell_type": "code",
   "execution_count": null,
   "metadata": {},
   "outputs": [],
   "source": []
  },
  {
   "cell_type": "code",
   "execution_count": 9,
   "metadata": {},
   "outputs": [],
   "source": [
    "def Imprime(driver):\n",
    "    \n",
    "    time.sleep(5)#Esperar 5 segundos para dar tempo de carregar a visualizaçao do pdf, não estou conseguindo esperar os elementos serem carregados\n",
    "    #IMPRESSAO\n",
    "    driver.switch_to_window(driver.window_handles[-1])#ativar a tela da impressão\n",
    "    driver.maximize_window()\n",
    "    time.sleep(1)\n",
    "    \n",
    "    #Espera até que o elemento aparecça ate 10 segundos, ISTO NÃO FUNCIONOU\n",
    "    #wait = WebDriverWait(driver, 20)\n",
    "    #elemento = wait.until(EC.visibility_of_element_located((By.ID, 'toolbar')))\n",
    "    \n",
    "    #Ativar o menu pela imagem\n",
    "    #posicao_aparecer_btn_imprimir = pyautogui.locateCenterOnScreen('imagens\\\\ForcarAparecerIconeImpressao.png',confidence=0.90)\n",
    "    #pyautogui.moveTo(posicao_aparecer_btn_imprimir,duration=1)\n",
    "    #posicao_imprimir_escondido    = pyautogui.locateCenterOnScreen('imagens\\\\btn_Imprimir_escondido.png',confidence=0.90)\n",
    "    #pyautogui.click(posicao_imprimir_escondido,duration=1)\n",
    "    \n",
    "    #Ativa o menu de imprimr pleo menu\n",
    "    tela_impressao = driver.find_element_by_xpath('/html/body')\n",
    "    actions = ActionChains(driver)\n",
    "    actions.context_click(tela_impressao)\n",
    "    actions.send_keys(Keys.DOWN)\n",
    "    actions.perform()\n",
    "    \n",
    "    #Ativa a impressão pelo menu\n",
    "    posicao_menu_imprimir = pyautogui.locateCenterOnScreen('imagens\\\\menu_ImprimirControl-P.png',confidence=0.95)\n",
    "    pyautogui.click(posicao_menu_imprimir,duration = 1)\n",
    "  \n",
    "    \n",
    "    #Executa a impressão pelo botão\n",
    "    time.sleep(4)\n",
    "    posicao_btn_imprimir = pyautogui.locateCenterOnScreen('imagens\\\\btn_Imprimir.png',confidence=0.90)\n",
    "    pyautogui.click(posicao_btn_imprimir,duration = 1)\n",
    "    "
   ]
  },
  {
   "cell_type": "code",
   "execution_count": 10,
   "metadata": {},
   "outputs": [],
   "source": [
    "def cria_arquivo_pdf(driver):\n",
    "    #Se a impresao for  em PDF\n",
    "    time.sleep(2)\n",
    "    nome_arq_full = 'dare' + '_' + datetime.now().strftime('%Y-%m-%d %H-%M-%S')\n",
    "    caminho_arq = os.path.join(os.getcwd(),'guias','GO',nome_arq_full + '.pdf')\n",
    "    \n",
    "    #Nomeia o arquivo\n",
    "    posicao_nome_arquivo = pyautogui.locateCenterOnScreen('imagens\\\\txt_nome_arquivo.png',confidence=0.90 )\n",
    "    \n",
    "    pyautogui.click(posicao_nome_arquivo,duration = 0.5)\n",
    "    pyautogui.click(posicao_nome_arquivo,duration = 0.5)\n",
    "    pyautogui.typewrite(caminho_arq, interval = 0.001)\n",
    "    \n",
    "    time.sleep(1)\n",
    "    posicao_btn_salvar = pyautogui.locateCenterOnScreen('imagens\\\\btn_salvar.png',confidence=0.90 )\n",
    "    pyautogui.click(posicao_btn_salvar,duration = 0.5) #salvar\n",
    "    time.sleep(5) #5 segundos para dar tempo salvar\n",
    "    "
   ]
  },
  {
   "cell_type": "code",
   "execution_count": 11,
   "metadata": {},
   "outputs": [],
   "source": [
    "def Reinicia(driver):\n",
    "    \n",
    "    driver.close() #Fecha a janela de impressao\n",
    "    driver.switch_to_window(driver.window_handles[1])#ativa a Janela de preenchimento de inscriçao\n",
    "    driver.close() #Fecha a Janela de preenchimento de inscriçao estadual\n",
    "    driver.switch_to_window(driver.window_handles[0]) #Volta para a tela inicial\n",
    "    return driver"
   ]
  },
  {
   "cell_type": "code",
   "execution_count": 12,
   "metadata": {},
   "outputs": [],
   "source": [
    "def Start():\n",
    "    #MAIN\n",
    "    try:\n",
    "        driver = AbreSitePrincipal()\n",
    "        driver.maximize_window()\n",
    "    \n",
    "        for i in range(3):\n",
    "   \n",
    "            Inicial_Guia_icms_normal(driver)\n",
    "            Abre_inscricao_estadual(driver)\n",
    "            Preenche_inscricao_estadual(driver)\n",
    "            Abre_Form_Dare(driver)\n",
    "            Preenche_Dare(driver)\n",
    "            Imprime(driver)\n",
    "            cria_arquivo_pdf(driver)\n",
    "            driver = Reinicia(driver)\n",
    "    \n",
    "    finally:\n",
    "        #finaliza\n",
    "        time.sleep(5) #eperar 5 segundos por algum processo final\n",
    "        driver.quit()  \n"
   ]
  },
  {
   "cell_type": "code",
   "execution_count": 16,
   "metadata": {},
   "outputs": [
    {
     "name": "stderr",
     "output_type": "stream",
     "text": [
      "c:\\users\\adilson\\appdata\\local\\programs\\python\\python37\\lib\\site-packages\\ipykernel_launcher.py:4: DeprecationWarning: use driver.switch_to.window instead\n",
      "  after removing the cwd from sys.path.\n",
      "c:\\users\\adilson\\appdata\\local\\programs\\python\\python37\\lib\\site-packages\\ipykernel_launcher.py:5: DeprecationWarning: use driver.switch_to.window instead\n",
      "  \"\"\"\n",
      "c:\\users\\adilson\\appdata\\local\\programs\\python\\python37\\lib\\site-packages\\ipykernel_launcher.py:6: DeprecationWarning: use driver.switch_to.window instead\n",
      "  \n"
     ]
    },
    {
     "ename": "NoSuchWindowException",
     "evalue": "Message: no such window: target window already closed\nfrom unknown error: web view not found\n  (Session info: chrome=84.0.4147.89)\n",
     "output_type": "error",
     "traceback": [
      "\u001b[1;31m---------------------------------------------------------------------------\u001b[0m",
      "\u001b[1;31mNoSuchWindowException\u001b[0m                     Traceback (most recent call last)",
      "\u001b[1;32m<ipython-input-16-1452d956b8cf>\u001b[0m in \u001b[0;36m<module>\u001b[1;34m\u001b[0m\n\u001b[1;32m----> 1\u001b[1;33m \u001b[0mStart\u001b[0m\u001b[1;33m(\u001b[0m\u001b[1;33m)\u001b[0m\u001b[1;33m\u001b[0m\u001b[1;33m\u001b[0m\u001b[0m\n\u001b[0m",
      "\u001b[1;32m<ipython-input-12-a7502c1847b3>\u001b[0m in \u001b[0;36mStart\u001b[1;34m()\u001b[0m\n\u001b[0;32m     14\u001b[0m             \u001b[0mImprime\u001b[0m\u001b[1;33m(\u001b[0m\u001b[0mdriver\u001b[0m\u001b[1;33m)\u001b[0m\u001b[1;33m\u001b[0m\u001b[1;33m\u001b[0m\u001b[0m\n\u001b[0;32m     15\u001b[0m             \u001b[0mcria_arquivo_pdf\u001b[0m\u001b[1;33m(\u001b[0m\u001b[0mdriver\u001b[0m\u001b[1;33m)\u001b[0m\u001b[1;33m\u001b[0m\u001b[1;33m\u001b[0m\u001b[0m\n\u001b[1;32m---> 16\u001b[1;33m             \u001b[0mdriver\u001b[0m \u001b[1;33m=\u001b[0m \u001b[0mReinicia\u001b[0m\u001b[1;33m(\u001b[0m\u001b[0mdriver\u001b[0m\u001b[1;33m)\u001b[0m\u001b[1;33m\u001b[0m\u001b[1;33m\u001b[0m\u001b[0m\n\u001b[0m\u001b[0;32m     17\u001b[0m \u001b[1;33m\u001b[0m\u001b[0m\n\u001b[0;32m     18\u001b[0m     \u001b[1;32mfinally\u001b[0m\u001b[1;33m:\u001b[0m\u001b[1;33m\u001b[0m\u001b[1;33m\u001b[0m\u001b[0m\n",
      "\u001b[1;32m<ipython-input-11-ae84563c606c>\u001b[0m in \u001b[0;36mReinicia\u001b[1;34m(driver)\u001b[0m\n\u001b[0;32m      1\u001b[0m \u001b[1;32mdef\u001b[0m \u001b[0mReinicia\u001b[0m\u001b[1;33m(\u001b[0m\u001b[0mdriver\u001b[0m\u001b[1;33m)\u001b[0m\u001b[1;33m:\u001b[0m\u001b[1;33m\u001b[0m\u001b[1;33m\u001b[0m\u001b[0m\n\u001b[0;32m      2\u001b[0m \u001b[1;33m\u001b[0m\u001b[0m\n\u001b[1;32m----> 3\u001b[1;33m     \u001b[0mdriver\u001b[0m\u001b[1;33m.\u001b[0m\u001b[0mclose\u001b[0m\u001b[1;33m(\u001b[0m\u001b[1;33m)\u001b[0m \u001b[1;31m#Fecha a janela de impressao\u001b[0m\u001b[1;33m\u001b[0m\u001b[1;33m\u001b[0m\u001b[0m\n\u001b[0m\u001b[0;32m      4\u001b[0m     \u001b[0mdriver\u001b[0m\u001b[1;33m.\u001b[0m\u001b[0mswitch_to_window\u001b[0m\u001b[1;33m(\u001b[0m\u001b[0mdriver\u001b[0m\u001b[1;33m.\u001b[0m\u001b[0mwindow_handles\u001b[0m\u001b[1;33m[\u001b[0m\u001b[1;36m1\u001b[0m\u001b[1;33m]\u001b[0m\u001b[1;33m)\u001b[0m\u001b[1;31m#ativa a Janela de preenchimento de inscriçao\u001b[0m\u001b[1;33m\u001b[0m\u001b[1;33m\u001b[0m\u001b[0m\n\u001b[0;32m      5\u001b[0m     \u001b[0mdriver\u001b[0m\u001b[1;33m.\u001b[0m\u001b[0mclose\u001b[0m\u001b[1;33m(\u001b[0m\u001b[1;33m)\u001b[0m \u001b[1;31m#Fecha a Janela de preenchimento de inscriçao estadual\u001b[0m\u001b[1;33m\u001b[0m\u001b[1;33m\u001b[0m\u001b[0m\n",
      "\u001b[1;32mc:\\users\\adilson\\appdata\\local\\programs\\python\\python37\\lib\\site-packages\\selenium\\webdriver\\remote\\webdriver.py\u001b[0m in \u001b[0;36mclose\u001b[1;34m(self)\u001b[0m\n\u001b[0;32m    686\u001b[0m             \u001b[0mdriver\u001b[0m\u001b[1;33m.\u001b[0m\u001b[0mclose\u001b[0m\u001b[1;33m(\u001b[0m\u001b[1;33m)\u001b[0m\u001b[1;33m\u001b[0m\u001b[1;33m\u001b[0m\u001b[0m\n\u001b[0;32m    687\u001b[0m         \"\"\"\n\u001b[1;32m--> 688\u001b[1;33m         \u001b[0mself\u001b[0m\u001b[1;33m.\u001b[0m\u001b[0mexecute\u001b[0m\u001b[1;33m(\u001b[0m\u001b[0mCommand\u001b[0m\u001b[1;33m.\u001b[0m\u001b[0mCLOSE\u001b[0m\u001b[1;33m)\u001b[0m\u001b[1;33m\u001b[0m\u001b[1;33m\u001b[0m\u001b[0m\n\u001b[0m\u001b[0;32m    689\u001b[0m \u001b[1;33m\u001b[0m\u001b[0m\n\u001b[0;32m    690\u001b[0m     \u001b[1;32mdef\u001b[0m \u001b[0mquit\u001b[0m\u001b[1;33m(\u001b[0m\u001b[0mself\u001b[0m\u001b[1;33m)\u001b[0m\u001b[1;33m:\u001b[0m\u001b[1;33m\u001b[0m\u001b[1;33m\u001b[0m\u001b[0m\n",
      "\u001b[1;32mc:\\users\\adilson\\appdata\\local\\programs\\python\\python37\\lib\\site-packages\\selenium\\webdriver\\remote\\webdriver.py\u001b[0m in \u001b[0;36mexecute\u001b[1;34m(self, driver_command, params)\u001b[0m\n\u001b[0;32m    319\u001b[0m         \u001b[0mresponse\u001b[0m \u001b[1;33m=\u001b[0m \u001b[0mself\u001b[0m\u001b[1;33m.\u001b[0m\u001b[0mcommand_executor\u001b[0m\u001b[1;33m.\u001b[0m\u001b[0mexecute\u001b[0m\u001b[1;33m(\u001b[0m\u001b[0mdriver_command\u001b[0m\u001b[1;33m,\u001b[0m \u001b[0mparams\u001b[0m\u001b[1;33m)\u001b[0m\u001b[1;33m\u001b[0m\u001b[1;33m\u001b[0m\u001b[0m\n\u001b[0;32m    320\u001b[0m         \u001b[1;32mif\u001b[0m \u001b[0mresponse\u001b[0m\u001b[1;33m:\u001b[0m\u001b[1;33m\u001b[0m\u001b[1;33m\u001b[0m\u001b[0m\n\u001b[1;32m--> 321\u001b[1;33m             \u001b[0mself\u001b[0m\u001b[1;33m.\u001b[0m\u001b[0merror_handler\u001b[0m\u001b[1;33m.\u001b[0m\u001b[0mcheck_response\u001b[0m\u001b[1;33m(\u001b[0m\u001b[0mresponse\u001b[0m\u001b[1;33m)\u001b[0m\u001b[1;33m\u001b[0m\u001b[1;33m\u001b[0m\u001b[0m\n\u001b[0m\u001b[0;32m    322\u001b[0m             response['value'] = self._unwrap_value(\n\u001b[0;32m    323\u001b[0m                 response.get('value', None))\n",
      "\u001b[1;32mc:\\users\\adilson\\appdata\\local\\programs\\python\\python37\\lib\\site-packages\\selenium\\webdriver\\remote\\errorhandler.py\u001b[0m in \u001b[0;36mcheck_response\u001b[1;34m(self, response)\u001b[0m\n\u001b[0;32m    240\u001b[0m                 \u001b[0malert_text\u001b[0m \u001b[1;33m=\u001b[0m \u001b[0mvalue\u001b[0m\u001b[1;33m[\u001b[0m\u001b[1;34m'alert'\u001b[0m\u001b[1;33m]\u001b[0m\u001b[1;33m.\u001b[0m\u001b[0mget\u001b[0m\u001b[1;33m(\u001b[0m\u001b[1;34m'text'\u001b[0m\u001b[1;33m)\u001b[0m\u001b[1;33m\u001b[0m\u001b[1;33m\u001b[0m\u001b[0m\n\u001b[0;32m    241\u001b[0m             \u001b[1;32mraise\u001b[0m \u001b[0mexception_class\u001b[0m\u001b[1;33m(\u001b[0m\u001b[0mmessage\u001b[0m\u001b[1;33m,\u001b[0m \u001b[0mscreen\u001b[0m\u001b[1;33m,\u001b[0m \u001b[0mstacktrace\u001b[0m\u001b[1;33m,\u001b[0m \u001b[0malert_text\u001b[0m\u001b[1;33m)\u001b[0m\u001b[1;33m\u001b[0m\u001b[1;33m\u001b[0m\u001b[0m\n\u001b[1;32m--> 242\u001b[1;33m         \u001b[1;32mraise\u001b[0m \u001b[0mexception_class\u001b[0m\u001b[1;33m(\u001b[0m\u001b[0mmessage\u001b[0m\u001b[1;33m,\u001b[0m \u001b[0mscreen\u001b[0m\u001b[1;33m,\u001b[0m \u001b[0mstacktrace\u001b[0m\u001b[1;33m)\u001b[0m\u001b[1;33m\u001b[0m\u001b[1;33m\u001b[0m\u001b[0m\n\u001b[0m\u001b[0;32m    243\u001b[0m \u001b[1;33m\u001b[0m\u001b[0m\n\u001b[0;32m    244\u001b[0m     \u001b[1;32mdef\u001b[0m \u001b[0m_value_or_default\u001b[0m\u001b[1;33m(\u001b[0m\u001b[0mself\u001b[0m\u001b[1;33m,\u001b[0m \u001b[0mobj\u001b[0m\u001b[1;33m,\u001b[0m \u001b[0mkey\u001b[0m\u001b[1;33m,\u001b[0m \u001b[0mdefault\u001b[0m\u001b[1;33m)\u001b[0m\u001b[1;33m:\u001b[0m\u001b[1;33m\u001b[0m\u001b[1;33m\u001b[0m\u001b[0m\n",
      "\u001b[1;31mNoSuchWindowException\u001b[0m: Message: no such window: target window already closed\nfrom unknown error: web view not found\n  (Session info: chrome=84.0.4147.89)\n"
     ]
    }
   ],
   "source": [
    "Start()"
   ]
  },
  {
   "cell_type": "code",
   "execution_count": null,
   "metadata": {},
   "outputs": [],
   "source": []
  },
  {
   "cell_type": "code",
   "execution_count": null,
   "metadata": {},
   "outputs": [],
   "source": []
  },
  {
   "cell_type": "code",
   "execution_count": null,
   "metadata": {},
   "outputs": [],
   "source": []
  }
 ],
 "metadata": {
  "kernelspec": {
   "display_name": "Python 3",
   "language": "python",
   "name": "python3"
  },
  "language_info": {
   "codemirror_mode": {
    "name": "ipython",
    "version": 3
   },
   "file_extension": ".py",
   "mimetype": "text/x-python",
   "name": "python",
   "nbconvert_exporter": "python",
   "pygments_lexer": "ipython3",
   "version": "3.7.7"
  }
 },
 "nbformat": 4,
 "nbformat_minor": 4
}
